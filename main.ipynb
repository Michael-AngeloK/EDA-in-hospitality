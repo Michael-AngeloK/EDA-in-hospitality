{
 "cells": [
  {
   "cell_type": "code",
   "execution_count": 1,
   "id": "a87e079c-dd3f-40a5-8a53-60e936a244e8",
   "metadata": {},
   "outputs": [],
   "source": [
    "import pandas as pd"
   ]
  },
  {
   "cell_type": "code",
   "execution_count": 2,
   "id": "19eeea8a-5730-4e52-9c56-029aad697f9c",
   "metadata": {},
   "outputs": [],
   "source": [
    "# Read datasets\n",
    "\n",
    "df_bookings = pd.read_csv(\"datasets/f_bookings.csv\")\n",
    "df_date = pd.read_csv(\"datasets/d_date.csv\")\n",
    "df_hotels = pd.read_csv(\"datasets/d_hotels.csv\")\n",
    "df_rooms = pd.read_csv(\"datasets/d_rooms.csv\")\n",
    "df_agg_bookings = pd.read_csv(\"datasets/f_agg_bookings.csv\")"
   ]
  },
  {
   "cell_type": "markdown",
   "id": "35d6f652-0f70-4aaf-afdc-63d012286f71",
   "metadata": {},
   "source": [
    "### Explore aggregate bookings"
   ]
  },
  {
   "cell_type": "code",
   "execution_count": 3,
   "id": "55b96f37-08fa-4701-9e80-a6ccf180e5c6",
   "metadata": {},
   "outputs": [
    {
     "data": {
      "text/html": [
       "<div>\n",
       "<style scoped>\n",
       "    .dataframe tbody tr th:only-of-type {\n",
       "        vertical-align: middle;\n",
       "    }\n",
       "\n",
       "    .dataframe tbody tr th {\n",
       "        vertical-align: top;\n",
       "    }\n",
       "\n",
       "    .dataframe thead th {\n",
       "        text-align: right;\n",
       "    }\n",
       "</style>\n",
       "<table border=\"1\" class=\"dataframe\">\n",
       "  <thead>\n",
       "    <tr style=\"text-align: right;\">\n",
       "      <th></th>\n",
       "      <th>booking_id</th>\n",
       "      <th>property_id</th>\n",
       "      <th>booking_date</th>\n",
       "      <th>check_in_date</th>\n",
       "      <th>checkout_date</th>\n",
       "      <th>no_guests</th>\n",
       "      <th>room_category</th>\n",
       "      <th>booking_platform</th>\n",
       "      <th>ratings_given</th>\n",
       "      <th>booking_status</th>\n",
       "      <th>revenue_generated</th>\n",
       "      <th>revenue_realized</th>\n",
       "    </tr>\n",
       "  </thead>\n",
       "  <tbody>\n",
       "    <tr>\n",
       "      <th>0</th>\n",
       "      <td>May012216558RT11</td>\n",
       "      <td>16558</td>\n",
       "      <td>27-04-22</td>\n",
       "      <td>1/5/2022</td>\n",
       "      <td>2/5/2022</td>\n",
       "      <td>-3.0</td>\n",
       "      <td>RT1</td>\n",
       "      <td>direct online</td>\n",
       "      <td>1.0</td>\n",
       "      <td>Checked Out</td>\n",
       "      <td>10010</td>\n",
       "      <td>10010</td>\n",
       "    </tr>\n",
       "    <tr>\n",
       "      <th>1</th>\n",
       "      <td>May012216558RT12</td>\n",
       "      <td>16558</td>\n",
       "      <td>30-04-22</td>\n",
       "      <td>1/5/2022</td>\n",
       "      <td>2/5/2022</td>\n",
       "      <td>2.0</td>\n",
       "      <td>RT1</td>\n",
       "      <td>others</td>\n",
       "      <td>NaN</td>\n",
       "      <td>Cancelled</td>\n",
       "      <td>9100</td>\n",
       "      <td>3640</td>\n",
       "    </tr>\n",
       "    <tr>\n",
       "      <th>2</th>\n",
       "      <td>May012216558RT13</td>\n",
       "      <td>16558</td>\n",
       "      <td>28-04-22</td>\n",
       "      <td>1/5/2022</td>\n",
       "      <td>4/5/2022</td>\n",
       "      <td>2.0</td>\n",
       "      <td>RT1</td>\n",
       "      <td>logtrip</td>\n",
       "      <td>5.0</td>\n",
       "      <td>Checked Out</td>\n",
       "      <td>9100000</td>\n",
       "      <td>9100</td>\n",
       "    </tr>\n",
       "    <tr>\n",
       "      <th>3</th>\n",
       "      <td>May012216558RT14</td>\n",
       "      <td>16558</td>\n",
       "      <td>28-04-22</td>\n",
       "      <td>1/5/2022</td>\n",
       "      <td>2/5/2022</td>\n",
       "      <td>-2.0</td>\n",
       "      <td>RT1</td>\n",
       "      <td>others</td>\n",
       "      <td>NaN</td>\n",
       "      <td>Cancelled</td>\n",
       "      <td>9100</td>\n",
       "      <td>3640</td>\n",
       "    </tr>\n",
       "  </tbody>\n",
       "</table>\n",
       "</div>"
      ],
      "text/plain": [
       "         booking_id  property_id booking_date check_in_date checkout_date  \\\n",
       "0  May012216558RT11        16558     27-04-22      1/5/2022      2/5/2022   \n",
       "1  May012216558RT12        16558     30-04-22      1/5/2022      2/5/2022   \n",
       "2  May012216558RT13        16558     28-04-22      1/5/2022      4/5/2022   \n",
       "3  May012216558RT14        16558     28-04-22      1/5/2022      2/5/2022   \n",
       "\n",
       "   no_guests room_category booking_platform  ratings_given booking_status  \\\n",
       "0       -3.0           RT1    direct online            1.0    Checked Out   \n",
       "1        2.0           RT1           others            NaN      Cancelled   \n",
       "2        2.0           RT1          logtrip            5.0    Checked Out   \n",
       "3       -2.0           RT1           others            NaN      Cancelled   \n",
       "\n",
       "   revenue_generated  revenue_realized  \n",
       "0              10010             10010  \n",
       "1               9100              3640  \n",
       "2            9100000              9100  \n",
       "3               9100              3640  "
      ]
     },
     "execution_count": 3,
     "metadata": {},
     "output_type": "execute_result"
    }
   ],
   "source": [
    "df_bookings.head(4)"
   ]
  },
  {
   "cell_type": "code",
   "execution_count": 4,
   "id": "cfdaa196-7094-44e9-94a0-17088ba386ad",
   "metadata": {},
   "outputs": [
    {
     "data": {
      "text/plain": [
       "(134590, 12)"
      ]
     },
     "execution_count": 4,
     "metadata": {},
     "output_type": "execute_result"
    }
   ],
   "source": [
    "df_bookings.shape"
   ]
  },
  {
   "cell_type": "code",
   "execution_count": 5,
   "id": "cddd3a58-cc0a-44b2-820d-8d5b46213bb3",
   "metadata": {},
   "outputs": [
    {
     "data": {
      "text/html": [
       "<div>\n",
       "<style scoped>\n",
       "    .dataframe tbody tr th:only-of-type {\n",
       "        vertical-align: middle;\n",
       "    }\n",
       "\n",
       "    .dataframe tbody tr th {\n",
       "        vertical-align: top;\n",
       "    }\n",
       "\n",
       "    .dataframe thead th {\n",
       "        text-align: right;\n",
       "    }\n",
       "</style>\n",
       "<table border=\"1\" class=\"dataframe\">\n",
       "  <thead>\n",
       "    <tr style=\"text-align: right;\">\n",
       "      <th></th>\n",
       "      <th>property_id</th>\n",
       "      <th>no_guests</th>\n",
       "      <th>ratings_given</th>\n",
       "      <th>revenue_generated</th>\n",
       "      <th>revenue_realized</th>\n",
       "    </tr>\n",
       "  </thead>\n",
       "  <tbody>\n",
       "    <tr>\n",
       "      <th>count</th>\n",
       "      <td>134590.000000</td>\n",
       "      <td>134587.000000</td>\n",
       "      <td>56683.000000</td>\n",
       "      <td>1.345900e+05</td>\n",
       "      <td>134590.000000</td>\n",
       "    </tr>\n",
       "    <tr>\n",
       "      <th>mean</th>\n",
       "      <td>18061.113493</td>\n",
       "      <td>2.036170</td>\n",
       "      <td>3.619004</td>\n",
       "      <td>1.537805e+04</td>\n",
       "      <td>12696.123256</td>\n",
       "    </tr>\n",
       "    <tr>\n",
       "      <th>std</th>\n",
       "      <td>1093.055847</td>\n",
       "      <td>1.034885</td>\n",
       "      <td>1.235009</td>\n",
       "      <td>9.303604e+04</td>\n",
       "      <td>6928.108124</td>\n",
       "    </tr>\n",
       "    <tr>\n",
       "      <th>min</th>\n",
       "      <td>16558.000000</td>\n",
       "      <td>-17.000000</td>\n",
       "      <td>1.000000</td>\n",
       "      <td>6.500000e+03</td>\n",
       "      <td>2600.000000</td>\n",
       "    </tr>\n",
       "    <tr>\n",
       "      <th>25%</th>\n",
       "      <td>17558.000000</td>\n",
       "      <td>1.000000</td>\n",
       "      <td>3.000000</td>\n",
       "      <td>9.900000e+03</td>\n",
       "      <td>7600.000000</td>\n",
       "    </tr>\n",
       "    <tr>\n",
       "      <th>50%</th>\n",
       "      <td>17564.000000</td>\n",
       "      <td>2.000000</td>\n",
       "      <td>4.000000</td>\n",
       "      <td>1.350000e+04</td>\n",
       "      <td>11700.000000</td>\n",
       "    </tr>\n",
       "    <tr>\n",
       "      <th>75%</th>\n",
       "      <td>18563.000000</td>\n",
       "      <td>2.000000</td>\n",
       "      <td>5.000000</td>\n",
       "      <td>1.800000e+04</td>\n",
       "      <td>15300.000000</td>\n",
       "    </tr>\n",
       "    <tr>\n",
       "      <th>max</th>\n",
       "      <td>19563.000000</td>\n",
       "      <td>6.000000</td>\n",
       "      <td>5.000000</td>\n",
       "      <td>2.856000e+07</td>\n",
       "      <td>45220.000000</td>\n",
       "    </tr>\n",
       "  </tbody>\n",
       "</table>\n",
       "</div>"
      ],
      "text/plain": [
       "         property_id      no_guests  ratings_given  revenue_generated  \\\n",
       "count  134590.000000  134587.000000   56683.000000       1.345900e+05   \n",
       "mean    18061.113493       2.036170       3.619004       1.537805e+04   \n",
       "std      1093.055847       1.034885       1.235009       9.303604e+04   \n",
       "min     16558.000000     -17.000000       1.000000       6.500000e+03   \n",
       "25%     17558.000000       1.000000       3.000000       9.900000e+03   \n",
       "50%     17564.000000       2.000000       4.000000       1.350000e+04   \n",
       "75%     18563.000000       2.000000       5.000000       1.800000e+04   \n",
       "max     19563.000000       6.000000       5.000000       2.856000e+07   \n",
       "\n",
       "       revenue_realized  \n",
       "count     134590.000000  \n",
       "mean       12696.123256  \n",
       "std         6928.108124  \n",
       "min         2600.000000  \n",
       "25%         7600.000000  \n",
       "50%        11700.000000  \n",
       "75%        15300.000000  \n",
       "max        45220.000000  "
      ]
     },
     "execution_count": 5,
     "metadata": {},
     "output_type": "execute_result"
    }
   ],
   "source": [
    "df_bookings.describe()"
   ]
  },
  {
   "cell_type": "code",
   "execution_count": null,
   "id": "b6911699-f031-43aa-97ee-622146d95a55",
   "metadata": {},
   "outputs": [],
   "source": [
    "df_bookings.booking_platform.value_counts().plot(kind=\"bar\")"
   ]
  },
  {
   "cell_type": "code",
   "execution_count": null,
   "id": "831d9bd4-a1e7-4c17-99e9-77adbe8160f0",
   "metadata": {},
   "outputs": [],
   "source": [
    "df_agg_bookings.head(3)"
   ]
  },
  {
   "cell_type": "code",
   "execution_count": null,
   "id": "23bf8db9-3ae6-4edf-85eb-ba7958b57814",
   "metadata": {},
   "outputs": [],
   "source": [
    "df_agg_bookings.property_id.unique()"
   ]
  },
  {
   "cell_type": "code",
   "execution_count": null,
   "id": "5db775a7-ab6b-4e56-a13e-80c2cda997c5",
   "metadata": {},
   "outputs": [],
   "source": [
    "df_agg_bookings.groupby('property_id')['successful_bookings'].sum()"
   ]
  },
  {
   "cell_type": "code",
   "execution_count": null,
   "id": "bfc7314a-7e1e-4c00-a7ea-f2b43d5a7cf7",
   "metadata": {},
   "outputs": [],
   "source": [
    "df_agg_bookings[df_agg_bookings.successful_bookings > df_agg_bookings.capacity]"
   ]
  },
  {
   "cell_type": "code",
   "execution_count": null,
   "id": "f9b71971-07b4-4191-919d-19c7cb100418",
   "metadata": {},
   "outputs": [],
   "source": [
    "df_agg_bookings[df_agg_bookings['capacity'] == df_agg_bookings['capacity'].max()]"
   ]
  },
  {
   "cell_type": "markdown",
   "id": "04d1e063-8270-4e16-90eb-dc005b46732f",
   "metadata": {},
   "source": [
    "### Data Cleaning"
   ]
  },
  {
   "cell_type": "code",
   "execution_count": null,
   "id": "c2a221ca-2bc8-478f-be2c-d73810ad9629",
   "metadata": {},
   "outputs": [],
   "source": [
    "df_bookings.describe()"
   ]
  },
  {
   "cell_type": "markdown",
   "id": "a68032cc-a847-4cb9-a402-2b31add7e2f1",
   "metadata": {},
   "source": [
    "**Clean invalid quests**"
   ]
  },
  {
   "cell_type": "code",
   "execution_count": null,
   "id": "eeb5c819-9965-47ce-ae11-6a55c56c83f9",
   "metadata": {},
   "outputs": [],
   "source": [
    "df_bookings = df_bookings[df_bookings.no_guests > 0]"
   ]
  },
  {
   "cell_type": "code",
   "execution_count": null,
   "id": "f9ae89d9-1cb5-4e04-983d-2d27a1cd94a2",
   "metadata": {},
   "outputs": [],
   "source": [
    "df_bookings.describe()"
   ]
  },
  {
   "cell_type": "markdown",
   "id": "717b1e15-b53d-4cc8-b667-cd79472367e6",
   "metadata": {},
   "source": [
    "**Outlier removal in revenue generated**"
   ]
  },
  {
   "cell_type": "code",
   "execution_count": null,
   "id": "b7053640-2ee2-4d98-8d99-11e6360e65a2",
   "metadata": {},
   "outputs": [],
   "source": [
    "higher_limit = df_bookings.revenue_generated.mean() + 3*df_bookings.revenue_generated.std()\n",
    "higher_limit"
   ]
  },
  {
   "cell_type": "code",
   "execution_count": null,
   "id": "4ca496bb-6133-4267-a35e-e4c5ffa38c3f",
   "metadata": {},
   "outputs": [],
   "source": [
    "lower_limit = df_bookings.revenue_generated.mean() - 3*df_bookings.revenue_generated.std()\n",
    "lower_limit\n",
    "df_bookings.shape"
   ]
  },
  {
   "cell_type": "code",
   "execution_count": null,
   "id": "cb88da52-d44e-474e-83ef-996d5f941269",
   "metadata": {},
   "outputs": [],
   "source": [
    "df_bookings[df_bookings.revenue_generated <= 0]"
   ]
  },
  {
   "cell_type": "code",
   "execution_count": null,
   "id": "34ceb28c-f935-4367-a8f9-18754fa5709b",
   "metadata": {},
   "outputs": [],
   "source": [
    "df_bookings = df_bookings[df_bookings.revenue_generated <= higher_limit]\n",
    "df_bookings.shape"
   ]
  },
  {
   "cell_type": "code",
   "execution_count": null,
   "id": "132c9aad-aca3-46dc-9c5d-09b2743daaa2",
   "metadata": {},
   "outputs": [],
   "source": [
    "df_bookings.revenue_realized.describe()"
   ]
  },
  {
   "cell_type": "code",
   "execution_count": null,
   "id": "80955509-9ac1-43be-b10a-b30dc888193d",
   "metadata": {},
   "outputs": [],
   "source": [
    "higher_limit = df_bookings.revenue_realized.mean() + 3*df_bookings.revenue_realized.std()\n",
    "higher_limit"
   ]
  },
  {
   "cell_type": "code",
   "execution_count": null,
   "id": "dcdb45fd-7313-4a98-aa6f-a50bcd6d482a",
   "metadata": {},
   "outputs": [],
   "source": [
    "df_bookings[df_bookings.revenue_realized < 0]\n"
   ]
  },
  {
   "cell_type": "code",
   "execution_count": null,
   "id": "9584f4b1-8390-4efe-a521-ee5525526061",
   "metadata": {},
   "outputs": [],
   "source": [
    "df_bookings[df_bookings.revenue_realized>higher_limit]"
   ]
  },
  {
   "cell_type": "code",
   "execution_count": null,
   "id": "b74fd05a-61ba-41d1-96e5-8c34f5a45f1d",
   "metadata": {},
   "outputs": [],
   "source": [
    "df_bookings[df_bookings.room_category==\"RT4\"].revenue_realized.describe()"
   ]
  },
  {
   "cell_type": "code",
   "execution_count": null,
   "id": "4ab2d6da-80ca-4527-a554-bee140e95c8f",
   "metadata": {},
   "outputs": [],
   "source": [
    "# mean + 3*standard deviation\n",
    "23439+3*9048"
   ]
  },
  {
   "cell_type": "code",
   "execution_count": null,
   "id": "bf131182-7373-455e-a0b9-7bb5c3f63768",
   "metadata": {},
   "outputs": [],
   "source": [
    "# 50583 is higher than 45220 so its reasonable that there are no outliers now"
   ]
  },
  {
   "cell_type": "markdown",
   "id": "2524a1df-d18a-4ebe-bb3b-b90119b29003",
   "metadata": {},
   "source": [
    "**Replace null values in aggregate bookings with mean()**"
   ]
  },
  {
   "cell_type": "code",
   "execution_count": null,
   "id": "4ee203fb-ecb7-4f72-9269-5f0e296b8f70",
   "metadata": {},
   "outputs": [],
   "source": [
    "#df_agg_bookings[df_agg_bookings.isnull().any(axis=1)]\n",
    "df_agg_bookings.isnull().sum()"
   ]
  },
  {
   "cell_type": "code",
   "execution_count": null,
   "id": "9026f07a-9688-4413-b249-441eaadd2341",
   "metadata": {},
   "outputs": [],
   "source": [
    "df_agg_bookings.fillna(df_agg_bookings.capacity.mean(), inplace=True)"
   ]
  },
  {
   "cell_type": "code",
   "execution_count": null,
   "id": "9d88b7e5-35cd-44b3-8336-082f2e4ec077",
   "metadata": {},
   "outputs": [],
   "source": [
    "df_agg_bookings.isnull().sum()"
   ]
  },
  {
   "cell_type": "code",
   "execution_count": null,
   "id": "6d4eeefa-0f00-45a8-971d-8ae8cfc6da8a",
   "metadata": {},
   "outputs": [],
   "source": [
    "df_agg_bookings = df_agg_bookings[df_agg_bookings.successful_bookings <= df_agg_bookings.capacity]"
   ]
  },
  {
   "cell_type": "code",
   "execution_count": null,
   "id": "456318ff-6058-4249-9e0b-bc4f1bd55927",
   "metadata": {},
   "outputs": [],
   "source": [
    "df_agg_bookings['occ_pct'] = df_agg_bookings.apply(lambda x: x['successful_bookings']/x['capacity'], axis=1)"
   ]
  },
  {
   "cell_type": "code",
   "execution_count": null,
   "id": "0d44e006-464c-48e9-8b1a-2ebcb1724c91",
   "metadata": {},
   "outputs": [],
   "source": [
    "df_agg_bookings['occ_pct'] = df_agg_bookings['occ_pct'].apply(lambda x: round(x*100, 2))"
   ]
  },
  {
   "cell_type": "code",
   "execution_count": null,
   "id": "52475c57-82ad-45b4-9036-f8acbfa23b77",
   "metadata": {},
   "outputs": [],
   "source": [
    "df_agg_bookings"
   ]
  },
  {
   "cell_type": "code",
   "execution_count": null,
   "id": "5ae47371-485a-4732-840b-4da07d710c47",
   "metadata": {},
   "outputs": [],
   "source": [
    "#There are various types of data transformations\n",
    "\n",
    "#Creating new columns\n",
    "#Normalization\n",
    "#Merging data\n",
    "#Aggregation"
   ]
  },
  {
   "cell_type": "markdown",
   "id": "ccf76a3c-dcd6-4225-beb2-21816a2f8b79",
   "metadata": {},
   "source": [
    "### Insights Generation"
   ]
  },
  {
   "cell_type": "markdown",
   "id": "ad005fc7-05a8-40be-9073-ae69ae255150",
   "metadata": {},
   "source": [
    "**Average occupancy rate in each of the room categories**"
   ]
  },
  {
   "cell_type": "code",
   "execution_count": null,
   "id": "9e4f7803-45b9-4bc9-a547-b75019fef4b4",
   "metadata": {},
   "outputs": [],
   "source": [
    "df_agg_bookings.value_counts()"
   ]
  },
  {
   "cell_type": "code",
   "execution_count": null,
   "id": "c898fe9d-d9c3-4db7-8aca-bfe9e776f0cb",
   "metadata": {},
   "outputs": [],
   "source": [
    "df_rooms.value_counts()"
   ]
  },
  {
   "cell_type": "code",
   "execution_count": null,
   "id": "9e5a4854-3943-454d-99d5-a2a3efb2a3f0",
   "metadata": {},
   "outputs": [],
   "source": [
    "df_merged = pd.merge(df_agg_bookings, df_rooms, left_on=\"room_category\", right_on=\"room_id\")\n",
    "df_merged.head(4)"
   ]
  },
  {
   "cell_type": "code",
   "execution_count": null,
   "id": "0135373f-e737-46af-a679-8aa95dac9a79",
   "metadata": {},
   "outputs": [],
   "source": [
    "df_merged.drop(\"room_id\", axis=1, inplace=True)\n",
    "df_merged.head(4)"
   ]
  },
  {
   "cell_type": "code",
   "execution_count": null,
   "id": "14975553-0d1c-481c-8cd3-6f429e6945b7",
   "metadata": {},
   "outputs": [],
   "source": [
    "df_merged.groupby(\"room_category\")[\"occ_pct\"].mean()"
   ]
  },
  {
   "cell_type": "code",
   "execution_count": null,
   "id": "181cbd60-9f5b-4c6d-af09-d3aa43c827a0",
   "metadata": {},
   "outputs": [],
   "source": [
    "print(df_merged[df_merged.room_class == \"Standard\"].occ_pct.mean())"
   ]
  },
  {
   "cell_type": "markdown",
   "id": "9ffe6c90-4afa-47f6-a322-52f7407804ef",
   "metadata": {},
   "source": [
    "**Average occupancy rate per city**"
   ]
  },
  {
   "cell_type": "code",
   "execution_count": null,
   "id": "bd0831b4-cd9a-4860-914a-551f9c63225e",
   "metadata": {},
   "outputs": [],
   "source": [
    "df_hotels.value_counts()"
   ]
  },
  {
   "cell_type": "code",
   "execution_count": null,
   "id": "85b7dbdf-1065-4706-801e-923f89898024",
   "metadata": {},
   "outputs": [],
   "source": [
    "df_merged = pd.merge(df_merged, df_hotels, on=\"property_id\")\n",
    "df_merged.head(4)"
   ]
  },
  {
   "cell_type": "code",
   "execution_count": null,
   "id": "77f2c545-bc96-40ec-9989-c9158e8f5fff",
   "metadata": {},
   "outputs": [],
   "source": [
    "df_merged.groupby(\"city\")[\"occ_pct\"].mean()"
   ]
  },
  {
   "cell_type": "markdown",
   "id": "191d8045-f096-4fc2-9a83-e2c55dd5f27b",
   "metadata": {},
   "source": [
    "**When was occupancy better? Weekday or Weekend?**"
   ]
  },
  {
   "cell_type": "code",
   "execution_count": null,
   "id": "d328d3db-8bb3-4030-bc75-d380aee0ab82",
   "metadata": {},
   "outputs": [],
   "source": [
    "df_date.head(4)"
   ]
  },
  {
   "cell_type": "code",
   "execution_count": null,
   "id": "667d1531-91f6-4d6d-aed4-4c8399565c5e",
   "metadata": {},
   "outputs": [],
   "source": [
    "df_merged = pd.merge(df_merged, df_date, left_on=\"check_in_date\", right_on=\"date\")"
   ]
  },
  {
   "cell_type": "code",
   "execution_count": null,
   "id": "0645c457-a97e-42df-b2c8-069292b1936f",
   "metadata": {},
   "outputs": [],
   "source": [
    "df_merged.groupby(\"day_type\")[\"occ_pct\"].mean().round()"
   ]
  },
  {
   "cell_type": "markdown",
   "id": "e838c6a0-cae7-4609-98ab-b51d562fc599",
   "metadata": {},
   "source": [
    "**In the month of June, what is the occupancy for different cities**"
   ]
  },
  {
   "cell_type": "code",
   "execution_count": null,
   "id": "b319cf30-c521-41c6-9f3f-83234804a5c6",
   "metadata": {},
   "outputs": [],
   "source": [
    "df_merged.value_counts()"
   ]
  },
  {
   "cell_type": "code",
   "execution_count": null,
   "id": "d42a1d47-bdfc-4dd0-9631-f1c65b969714",
   "metadata": {},
   "outputs": [],
   "source": [
    "df_date.value_counts()"
   ]
  },
  {
   "cell_type": "code",
   "execution_count": null,
   "id": "cbcbda29-b5f0-4e89-99f5-5092d4b027f8",
   "metadata": {},
   "outputs": [],
   "source": [
    "df_june = df_merged[df_merged[\"mmm yy\"] ==\"Jul 22\"]\n",
    "df_june.shape"
   ]
  },
  {
   "cell_type": "code",
   "execution_count": null,
   "id": "0dc5a7da-be4f-48c8-8cbf-3d636bcc9431",
   "metadata": {},
   "outputs": [],
   "source": [
    "df_june.groupby(\"city\")[\"occ_pct\"].mean().round(2).sort_values(ascending=False)"
   ]
  },
  {
   "cell_type": "markdown",
   "id": "c4b04dde-4aeb-4166-9e43-03dbf957691f",
   "metadata": {},
   "source": [
    "**New data for the month of august. Append that to existing data**"
   ]
  },
  {
   "cell_type": "code",
   "execution_count": null,
   "id": "533f3886-055b-4e64-8aa9-208f3b2ff05c",
   "metadata": {},
   "outputs": [],
   "source": [
    "df_august = pd.read_csv(\"datasets/new_data_august.csv\")\n",
    "df_august"
   ]
  },
  {
   "cell_type": "code",
   "execution_count": null,
   "id": "bcb23f1c-58b0-48be-a132-132c893e3ceb",
   "metadata": {},
   "outputs": [],
   "source": [
    "df_latest = pd.concat([df_merged, df_august], ignore_index=True, axis=0)\n",
    "df_latest.tail(10)"
   ]
  },
  {
   "cell_type": "markdown",
   "id": "cc75e8f0-d816-403a-9302-493d2359403f",
   "metadata": {},
   "source": [
    "**Print revenue realized per city**"
   ]
  },
  {
   "cell_type": "code",
   "execution_count": null,
   "id": "50557b3d-216e-488f-b3ef-b51375050ada",
   "metadata": {},
   "outputs": [],
   "source": [
    "df_bookings.head(4)"
   ]
  },
  {
   "cell_type": "code",
   "execution_count": null,
   "id": "236d001f-59a2-493d-891f-7a793d2738cc",
   "metadata": {},
   "outputs": [],
   "source": [
    "df_hotels.head(4)"
   ]
  },
  {
   "cell_type": "code",
   "execution_count": null,
   "id": "27237f03-2039-4256-9661-cc3d1955b8cd",
   "metadata": {},
   "outputs": [],
   "source": [
    "df_bookings_hotels = pd.merge(df_bookings, df_hotels, on=\"property_id\")\n",
    "df_bookings_hotels.head(4)"
   ]
  },
  {
   "cell_type": "code",
   "execution_count": null,
   "id": "4a57578e-881e-4147-9e25-aa9c11dfe7f4",
   "metadata": {},
   "outputs": [],
   "source": [
    "df_bookings_hotels.groupby(\"city\")[\"revenue_realized\"].sum()"
   ]
  },
  {
   "cell_type": "markdown",
   "id": "7f09fab0-7223-4c7e-b426-ff2d89ac0c43",
   "metadata": {},
   "source": [
    "**Print month by month revenue**"
   ]
  },
  {
   "cell_type": "code",
   "execution_count": null,
   "id": "df884f24-f1c1-4d41-86d5-a45c0c38acaf",
   "metadata": {},
   "outputs": [],
   "source": [
    "df_date[\"date\"].unique()"
   ]
  },
  {
   "cell_type": "code",
   "execution_count": null,
   "id": "04bafabd-2014-4139-a24f-16c1c021b74a",
   "metadata": {},
   "outputs": [],
   "source": [
    "df_date[\"mmm yy\"].unique()"
   ]
  },
  {
   "cell_type": "code",
   "execution_count": null,
   "id": "7951b6ca-f7b7-4697-8b4a-48768df84da5",
   "metadata": {},
   "outputs": [],
   "source": [
    "pd.merge(df_bookings_hotels, df_date, left_on=\"check_in_date\", right_on=\"date\")"
   ]
  },
  {
   "cell_type": "code",
   "execution_count": null,
   "id": "b95df240-4e83-4f59-bfff-e69d240e444f",
   "metadata": {},
   "outputs": [],
   "source": [
    "df_bookings_hotels[\"check_in_date\"] = pd.to_datetime(df_bookings_hotels[\"check_in_date\"], format='mixed')"
   ]
  },
  {
   "cell_type": "code",
   "execution_count": null,
   "id": "a06e7dcb-bae5-47cb-a3a0-92588d145f77",
   "metadata": {},
   "outputs": [],
   "source": [
    "df_date[\"date\"] = pd.to_datetime(df_date[\"date\"])\n",
    "df_date.head(4)"
   ]
  },
  {
   "cell_type": "code",
   "execution_count": null,
   "id": "074c1f75-7c2f-4243-8a69-40be17ec5ff8",
   "metadata": {},
   "outputs": [],
   "source": [
    "df_bookings_hotels = pd.merge(df_bookings_hotels, df_date, left_on=\"check_in_date\", right_on=\"date\")\n",
    "df_bookings_hotels.head(4)"
   ]
  },
  {
   "cell_type": "code",
   "execution_count": null,
   "id": "ae2d814f-ea29-4f76-b082-784b02a9661f",
   "metadata": {},
   "outputs": [],
   "source": [
    "df_bookings_hotels.groupby('mmm yy')['revenue_generated'].sum()"
   ]
  },
  {
   "cell_type": "markdown",
   "id": "462b6a00-c5c9-4f0b-b543-ceec481be8b1",
   "metadata": {},
   "source": [
    "**Print revenue realized per hotel type**"
   ]
  },
  {
   "cell_type": "code",
   "execution_count": null,
   "id": "35866ad7-f3f0-4620-a4cd-bd7fbdef0909",
   "metadata": {},
   "outputs": [],
   "source": [
    "df_bookings_hotels.groupby('category')['revenue_realized'].sum()"
   ]
  },
  {
   "cell_type": "markdown",
   "id": "18025454-441d-481a-aff6-84ed069512b9",
   "metadata": {},
   "source": [
    "**Print average rating per city**"
   ]
  },
  {
   "cell_type": "code",
   "execution_count": null,
   "id": "a59d828a-01f4-43ff-afbf-665d26c1b8ef",
   "metadata": {},
   "outputs": [],
   "source": [
    "df_bookings_hotels = df_bookings_hotels[df_bookings_hotels.ratings_given.notnull()]"
   ]
  },
  {
   "cell_type": "code",
   "execution_count": null,
   "id": "953a621a-f7b6-495a-a07a-0ab66951651f",
   "metadata": {},
   "outputs": [],
   "source": [
    "df_bookings_hotels.groupby('city')['ratings_given'].mean().round(2)"
   ]
  },
  {
   "cell_type": "markdown",
   "id": "fbb4b921-83cd-42a8-ad10-bd8c735b8024",
   "metadata": {},
   "source": [
    "**Print a pie chart of revenue realized per booking platform**"
   ]
  },
  {
   "cell_type": "code",
   "execution_count": null,
   "id": "864b13fc-95e1-48c3-9e15-8380923ede4d",
   "metadata": {},
   "outputs": [],
   "source": [
    "g = df_bookings_hotels.groupby('booking_platform')['revenue_realized'].sum()\n",
    "g"
   ]
  },
  {
   "cell_type": "code",
   "execution_count": null,
   "id": "72c783b1-a434-4f70-a8fc-81122334b1db",
   "metadata": {},
   "outputs": [],
   "source": [
    "g.plot(kind=\"pie\")"
   ]
  },
  {
   "cell_type": "code",
   "execution_count": null,
   "id": "ea784c86-7d9a-45aa-8960-e10440c0722f",
   "metadata": {},
   "outputs": [],
   "source": []
  }
 ],
 "metadata": {
  "kernelspec": {
   "display_name": "Python 3 (ipykernel)",
   "language": "python",
   "name": "python3"
  },
  "language_info": {
   "codemirror_mode": {
    "name": "ipython",
    "version": 3
   },
   "file_extension": ".py",
   "mimetype": "text/x-python",
   "name": "python",
   "nbconvert_exporter": "python",
   "pygments_lexer": "ipython3",
   "version": "3.13.3"
  }
 },
 "nbformat": 4,
 "nbformat_minor": 5
}
